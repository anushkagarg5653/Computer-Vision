{
 "cells": [
  {
   "cell_type": "markdown",
   "metadata": {},
   "source": [
    "### Reading, writing and displaying images with OpenCV"
   ]
  },
  {
   "cell_type": "code",
   "execution_count": 4,
   "metadata": {},
   "outputs": [],
   "source": [
    "import cv2\n",
    "\n",
    "\n",
    "# Load an image using 'imread' \n",
    "input = cv2.imread(\"./images.jpg\")\n",
    "\n",
    "# file 'input.jpg' is loaded and stored in python\n",
    "\n",
    "# for displaying image, we use 'imshow'\n",
    "cv2.imshow(\"animal\", input)\n",
    "\n",
    "# 'waitKey' allows us to input information when window is open\n",
    "# by leaving it blank it just waits for anykey to be pressed before continuing\n",
    "# by placing numbers (except 0), we can specify a delay for how long you keep\n",
    "# the open window open \n",
    "cv2.waitKey()\n",
    "\n",
    "# This closes all open windows\n",
    "# Failure to place this cause your program to hang\n",
    "cv2.destroyAllWindows()"
   ]
  },
  {
   "cell_type": "markdown",
   "metadata": {},
   "source": [
    "### Closer look at our image"
   ]
  },
  {
   "cell_type": "code",
   "execution_count": 5,
   "metadata": {},
   "outputs": [],
   "source": [
    "import numpy as np"
   ]
  },
  {
   "cell_type": "code",
   "execution_count": 6,
   "metadata": {},
   "outputs": [
    {
     "name": "stdout",
     "output_type": "stream",
     "text": [
      "(183, 275, 3)\n"
     ]
    }
   ],
   "source": [
    "print(input.shape)"
   ]
  },
  {
   "cell_type": "markdown",
   "metadata": {},
   "source": [
    "##### Shapes gives us the dimensions of the image"
   ]
  },
  {
   "cell_type": "code",
   "execution_count": 8,
   "metadata": {},
   "outputs": [
    {
     "name": "stdout",
     "output_type": "stream",
     "text": [
      "Height of Image: 183 pixels\n",
      "Width of Image: 275 pixels\n"
     ]
    }
   ],
   "source": [
    "# printing each dimension of the image\n",
    "\n",
    "print('Height of Image:', int(input.shape[0]), 'pixels')\n",
    "print('Width of Image:', int(input.shape[1]), 'pixels')"
   ]
  },
  {
   "cell_type": "markdown",
   "metadata": {},
   "source": [
    "### To save our images"
   ]
  },
  {
   "cell_type": "code",
   "execution_count": 9,
   "metadata": {},
   "outputs": [
    {
     "data": {
      "text/plain": [
       "True"
      ]
     },
     "execution_count": 9,
     "metadata": {},
     "output_type": "execute_result"
    }
   ],
   "source": [
    "# use 'imwrite' with the file name and the and image to be saved\n",
    "# we can also save it in different formats\n",
    "cv2.imwrite('image.jpg', input)\n",
    "cv2.imwrite('image.png', input)"
   ]
  },
  {
   "cell_type": "code",
   "execution_count": null,
   "metadata": {},
   "outputs": [],
   "source": []
  }
 ],
 "metadata": {
  "kernelspec": {
   "display_name": "Python 3",
   "language": "python",
   "name": "python3"
  },
  "language_info": {
   "codemirror_mode": {
    "name": "ipython",
    "version": 3
   },
   "file_extension": ".py",
   "mimetype": "text/x-python",
   "name": "python",
   "nbconvert_exporter": "python",
   "pygments_lexer": "ipython3",
   "version": "3.7.3"
  }
 },
 "nbformat": 4,
 "nbformat_minor": 2
}
